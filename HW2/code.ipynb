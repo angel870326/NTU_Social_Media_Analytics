{
  "nbformat": 4,
  "nbformat_minor": 0,
  "metadata": {
    "colab": {
      "provenance": [],
      "toc_visible": true,
      "include_colab_link": true
    },
    "kernelspec": {
      "name": "python3",
      "display_name": "Python 3"
    },
    "language_info": {
      "name": "python"
    }
  },
  "cells": [
    {
      "cell_type": "markdown",
      "metadata": {
        "id": "view-in-github",
        "colab_type": "text"
      },
      "source": [
        "<a href=\"https://colab.research.google.com/github/angel870326/NTU_Social_Media_Analytics/blob/main/HW2/code.ipynb\" target=\"_parent\"><img src=\"https://colab.research.google.com/assets/colab-badge.svg\" alt=\"Open In Colab\"/></a>"
      ]
    },
    {
      "cell_type": "markdown",
      "source": [
        "> 2023.04.26 Ssu-Yun Wang<br/>\n",
        "[Github @angel870326](https://github.com/angel870326)\n",
        "\n",
        "# **Programming Assignment 2: Spectral Clustering on Star War**\n",
        "\n",
        "### Contents\n",
        "\n",
        "1. Read Data\n",
        "2. Ratio-Cut Laplacian (L)\n",
        "3. Top k Eigenvectors (Smallest Eigenvalues)\n",
        "    * 3.1 Compute eigenvalues and eigenvectors\n",
        "    * 3.2 Sort eigenvectors by eigenvalues (ascending)\n",
        "    * 3.3 Find top 3 eigenvectors\n",
        "    * 3.4 Create X̂\n",
        "4. K-means\n",
        "    * 4.1 Algorithm\n",
        "    * 4.2 Result\n",
        "    * 4.3 Visualization\n",
        "5. Check if the Above Results are Correct\n",
        "    * 5.1 K-means\n",
        "    * 5.2 Spectral Clustering\n",
        "\n",
        "\n"
      ],
      "metadata": {
        "id": "ujusN1qHEZPV"
      }
    },
    {
      "cell_type": "code",
      "execution_count": null,
      "metadata": {
        "id": "uUkbHZq-AYIf",
        "colab": {
          "base_uri": "https://localhost:8080/"
        },
        "outputId": "286c313f-359c-4163-9308-f0a9588ab033"
      },
      "outputs": [
        {
          "output_type": "stream",
          "name": "stdout",
          "text": [
            "Drive already mounted at /content/gdrive; to attempt to forcibly remount, call drive.mount(\"/content/gdrive\", force_remount=True).\n"
          ]
        }
      ],
      "source": [
        "# sConnect to the Google Drive\n",
        "from google.colab import drive\n",
        "drive.mount(\"/content/gdrive\")"
      ]
    },
    {
      "cell_type": "code",
      "source": [
        "import os\n",
        "import pandas as pd\n",
        "import numpy as np"
      ],
      "metadata": {
        "id": "ksCRnzErEYai"
      },
      "execution_count": null,
      "outputs": []
    },
    {
      "cell_type": "markdown",
      "source": [
        "## **1. Read Data**\n",
        "\n",
        "Dataset 中共有 69 位 Star War 角色，分屬於三大政營\n",
        "\n",
        "adjacent_matrix.csv:\n",
        "*   描述這 69 位角色間的關係 (0 或 1)\n",
        "*   header 和 index 是角色編號\n"
      ],
      "metadata": {
        "id": "CCmPviRbEk1q"
      }
    },
    {
      "cell_type": "code",
      "source": [
        "# Path\n",
        "path = '/content/gdrive/MyDrive/碩二下/社群媒體分析/HW/HW2'"
      ],
      "metadata": {
        "id": "KmH1_5b6KQrT"
      },
      "execution_count": null,
      "outputs": []
    },
    {
      "cell_type": "code",
      "source": [
        "matrix = pd.read_csv(os.path.join(path, 'adjacent_matrix-1.csv'), index_col = 0)\n",
        "matrix"
      ],
      "metadata": {
        "colab": {
          "base_uri": "https://localhost:8080/"
        },
        "id": "y0Nxhgg8EkR3",
        "outputId": "4b1e4bcc-62d2-4277-d125-74633d054fe8"
      },
      "execution_count": null,
      "outputs": [
        {
          "output_type": "execute_result",
          "data": {
            "text/plain": [
              "       0    1    2    3    4    5    6    7    8    9  ...  102  103  104  \\\n",
              "0    0.0  1.0  1.0  1.0  0.0  0.0  0.0  1.0  0.0  0.0  ...  0.0  0.0  0.0   \n",
              "1    1.0  0.0  1.0  0.0  0.0  0.0  0.0  1.0  0.0  0.0  ...  1.0  0.0  1.0   \n",
              "2    1.0  1.0  0.0  0.0  0.0  0.0  0.0  0.0  0.0  0.0  ...  1.0  0.0  1.0   \n",
              "3    1.0  0.0  0.0  0.0  1.0  0.0  1.0  1.0  0.0  0.0  ...  0.0  0.0  0.0   \n",
              "4    0.0  0.0  0.0  1.0  0.0  0.0  1.0  1.0  1.0  1.0  ...  0.0  0.0  0.0   \n",
              "..   ...  ...  ...  ...  ...  ...  ...  ...  ...  ...  ...  ...  ...  ...   \n",
              "107  0.0  0.0  0.0  0.0  0.0  0.0  0.0  0.0  0.0  0.0  ...  0.0  0.0  0.0   \n",
              "108  0.0  0.0  0.0  0.0  0.0  0.0  0.0  0.0  0.0  0.0  ...  0.0  0.0  0.0   \n",
              "109  0.0  0.0  0.0  0.0  0.0  0.0  0.0  0.0  0.0  0.0  ...  0.0  0.0  0.0   \n",
              "110  0.0  0.0  0.0  0.0  0.0  0.0  0.0  0.0  0.0  0.0  ...  0.0  0.0  0.0   \n",
              "111  0.0  0.0  0.0  0.0  0.0  0.0  0.0  0.0  0.0  0.0  ...  0.0  0.0  0.0   \n",
              "\n",
              "     105  106  107  108  109  110  111  \n",
              "0    0.0  0.0  0.0  0.0  0.0  0.0  0.0  \n",
              "1    0.0  0.0  0.0  0.0  0.0  0.0  0.0  \n",
              "2    0.0  0.0  0.0  0.0  0.0  0.0  0.0  \n",
              "3    0.0  0.0  0.0  0.0  0.0  0.0  0.0  \n",
              "4    0.0  0.0  0.0  0.0  0.0  0.0  0.0  \n",
              "..   ...  ...  ...  ...  ...  ...  ...  \n",
              "107  0.0  0.0  0.0  0.0  1.0  1.0  1.0  \n",
              "108  0.0  0.0  0.0  0.0  0.0  0.0  0.0  \n",
              "109  0.0  0.0  1.0  0.0  0.0  1.0  1.0  \n",
              "110  1.0  0.0  1.0  0.0  1.0  0.0  1.0  \n",
              "111  0.0  0.0  1.0  0.0  1.0  1.0  0.0  \n",
              "\n",
              "[69 rows x 69 columns]"
            ],
            "text/html": [
              "\n",
              "  <div id=\"df-12930078-28e6-4277-adf8-9fa976e71cc1\">\n",
              "    <div class=\"colab-df-container\">\n",
              "      <div>\n",
              "<style scoped>\n",
              "    .dataframe tbody tr th:only-of-type {\n",
              "        vertical-align: middle;\n",
              "    }\n",
              "\n",
              "    .dataframe tbody tr th {\n",
              "        vertical-align: top;\n",
              "    }\n",
              "\n",
              "    .dataframe thead th {\n",
              "        text-align: right;\n",
              "    }\n",
              "</style>\n",
              "<table border=\"1\" class=\"dataframe\">\n",
              "  <thead>\n",
              "    <tr style=\"text-align: right;\">\n",
              "      <th></th>\n",
              "      <th>0</th>\n",
              "      <th>1</th>\n",
              "      <th>2</th>\n",
              "      <th>3</th>\n",
              "      <th>4</th>\n",
              "      <th>5</th>\n",
              "      <th>6</th>\n",
              "      <th>7</th>\n",
              "      <th>8</th>\n",
              "      <th>9</th>\n",
              "      <th>...</th>\n",
              "      <th>102</th>\n",
              "      <th>103</th>\n",
              "      <th>104</th>\n",
              "      <th>105</th>\n",
              "      <th>106</th>\n",
              "      <th>107</th>\n",
              "      <th>108</th>\n",
              "      <th>109</th>\n",
              "      <th>110</th>\n",
              "      <th>111</th>\n",
              "    </tr>\n",
              "  </thead>\n",
              "  <tbody>\n",
              "    <tr>\n",
              "      <th>0</th>\n",
              "      <td>0.0</td>\n",
              "      <td>1.0</td>\n",
              "      <td>1.0</td>\n",
              "      <td>1.0</td>\n",
              "      <td>0.0</td>\n",
              "      <td>0.0</td>\n",
              "      <td>0.0</td>\n",
              "      <td>1.0</td>\n",
              "      <td>0.0</td>\n",
              "      <td>0.0</td>\n",
              "      <td>...</td>\n",
              "      <td>0.0</td>\n",
              "      <td>0.0</td>\n",
              "      <td>0.0</td>\n",
              "      <td>0.0</td>\n",
              "      <td>0.0</td>\n",
              "      <td>0.0</td>\n",
              "      <td>0.0</td>\n",
              "      <td>0.0</td>\n",
              "      <td>0.0</td>\n",
              "      <td>0.0</td>\n",
              "    </tr>\n",
              "    <tr>\n",
              "      <th>1</th>\n",
              "      <td>1.0</td>\n",
              "      <td>0.0</td>\n",
              "      <td>1.0</td>\n",
              "      <td>0.0</td>\n",
              "      <td>0.0</td>\n",
              "      <td>0.0</td>\n",
              "      <td>0.0</td>\n",
              "      <td>1.0</td>\n",
              "      <td>0.0</td>\n",
              "      <td>0.0</td>\n",
              "      <td>...</td>\n",
              "      <td>1.0</td>\n",
              "      <td>0.0</td>\n",
              "      <td>1.0</td>\n",
              "      <td>0.0</td>\n",
              "      <td>0.0</td>\n",
              "      <td>0.0</td>\n",
              "      <td>0.0</td>\n",
              "      <td>0.0</td>\n",
              "      <td>0.0</td>\n",
              "      <td>0.0</td>\n",
              "    </tr>\n",
              "    <tr>\n",
              "      <th>2</th>\n",
              "      <td>1.0</td>\n",
              "      <td>1.0</td>\n",
              "      <td>0.0</td>\n",
              "      <td>0.0</td>\n",
              "      <td>0.0</td>\n",
              "      <td>0.0</td>\n",
              "      <td>0.0</td>\n",
              "      <td>0.0</td>\n",
              "      <td>0.0</td>\n",
              "      <td>0.0</td>\n",
              "      <td>...</td>\n",
              "      <td>1.0</td>\n",
              "      <td>0.0</td>\n",
              "      <td>1.0</td>\n",
              "      <td>0.0</td>\n",
              "      <td>0.0</td>\n",
              "      <td>0.0</td>\n",
              "      <td>0.0</td>\n",
              "      <td>0.0</td>\n",
              "      <td>0.0</td>\n",
              "      <td>0.0</td>\n",
              "    </tr>\n",
              "    <tr>\n",
              "      <th>3</th>\n",
              "      <td>1.0</td>\n",
              "      <td>0.0</td>\n",
              "      <td>0.0</td>\n",
              "      <td>0.0</td>\n",
              "      <td>1.0</td>\n",
              "      <td>0.0</td>\n",
              "      <td>1.0</td>\n",
              "      <td>1.0</td>\n",
              "      <td>0.0</td>\n",
              "      <td>0.0</td>\n",
              "      <td>...</td>\n",
              "      <td>0.0</td>\n",
              "      <td>0.0</td>\n",
              "      <td>0.0</td>\n",
              "      <td>0.0</td>\n",
              "      <td>0.0</td>\n",
              "      <td>0.0</td>\n",
              "      <td>0.0</td>\n",
              "      <td>0.0</td>\n",
              "      <td>0.0</td>\n",
              "      <td>0.0</td>\n",
              "    </tr>\n",
              "    <tr>\n",
              "      <th>4</th>\n",
              "      <td>0.0</td>\n",
              "      <td>0.0</td>\n",
              "      <td>0.0</td>\n",
              "      <td>1.0</td>\n",
              "      <td>0.0</td>\n",
              "      <td>0.0</td>\n",
              "      <td>1.0</td>\n",
              "      <td>1.0</td>\n",
              "      <td>1.0</td>\n",
              "      <td>1.0</td>\n",
              "      <td>...</td>\n",
              "      <td>0.0</td>\n",
              "      <td>0.0</td>\n",
              "      <td>0.0</td>\n",
              "      <td>0.0</td>\n",
              "      <td>0.0</td>\n",
              "      <td>0.0</td>\n",
              "      <td>0.0</td>\n",
              "      <td>0.0</td>\n",
              "      <td>0.0</td>\n",
              "      <td>0.0</td>\n",
              "    </tr>\n",
              "    <tr>\n",
              "      <th>...</th>\n",
              "      <td>...</td>\n",
              "      <td>...</td>\n",
              "      <td>...</td>\n",
              "      <td>...</td>\n",
              "      <td>...</td>\n",
              "      <td>...</td>\n",
              "      <td>...</td>\n",
              "      <td>...</td>\n",
              "      <td>...</td>\n",
              "      <td>...</td>\n",
              "      <td>...</td>\n",
              "      <td>...</td>\n",
              "      <td>...</td>\n",
              "      <td>...</td>\n",
              "      <td>...</td>\n",
              "      <td>...</td>\n",
              "      <td>...</td>\n",
              "      <td>...</td>\n",
              "      <td>...</td>\n",
              "      <td>...</td>\n",
              "      <td>...</td>\n",
              "    </tr>\n",
              "    <tr>\n",
              "      <th>107</th>\n",
              "      <td>0.0</td>\n",
              "      <td>0.0</td>\n",
              "      <td>0.0</td>\n",
              "      <td>0.0</td>\n",
              "      <td>0.0</td>\n",
              "      <td>0.0</td>\n",
              "      <td>0.0</td>\n",
              "      <td>0.0</td>\n",
              "      <td>0.0</td>\n",
              "      <td>0.0</td>\n",
              "      <td>...</td>\n",
              "      <td>0.0</td>\n",
              "      <td>0.0</td>\n",
              "      <td>0.0</td>\n",
              "      <td>0.0</td>\n",
              "      <td>0.0</td>\n",
              "      <td>0.0</td>\n",
              "      <td>0.0</td>\n",
              "      <td>1.0</td>\n",
              "      <td>1.0</td>\n",
              "      <td>1.0</td>\n",
              "    </tr>\n",
              "    <tr>\n",
              "      <th>108</th>\n",
              "      <td>0.0</td>\n",
              "      <td>0.0</td>\n",
              "      <td>0.0</td>\n",
              "      <td>0.0</td>\n",
              "      <td>0.0</td>\n",
              "      <td>0.0</td>\n",
              "      <td>0.0</td>\n",
              "      <td>0.0</td>\n",
              "      <td>0.0</td>\n",
              "      <td>0.0</td>\n",
              "      <td>...</td>\n",
              "      <td>0.0</td>\n",
              "      <td>0.0</td>\n",
              "      <td>0.0</td>\n",
              "      <td>0.0</td>\n",
              "      <td>0.0</td>\n",
              "      <td>0.0</td>\n",
              "      <td>0.0</td>\n",
              "      <td>0.0</td>\n",
              "      <td>0.0</td>\n",
              "      <td>0.0</td>\n",
              "    </tr>\n",
              "    <tr>\n",
              "      <th>109</th>\n",
              "      <td>0.0</td>\n",
              "      <td>0.0</td>\n",
              "      <td>0.0</td>\n",
              "      <td>0.0</td>\n",
              "      <td>0.0</td>\n",
              "      <td>0.0</td>\n",
              "      <td>0.0</td>\n",
              "      <td>0.0</td>\n",
              "      <td>0.0</td>\n",
              "      <td>0.0</td>\n",
              "      <td>...</td>\n",
              "      <td>0.0</td>\n",
              "      <td>0.0</td>\n",
              "      <td>0.0</td>\n",
              "      <td>0.0</td>\n",
              "      <td>0.0</td>\n",
              "      <td>1.0</td>\n",
              "      <td>0.0</td>\n",
              "      <td>0.0</td>\n",
              "      <td>1.0</td>\n",
              "      <td>1.0</td>\n",
              "    </tr>\n",
              "    <tr>\n",
              "      <th>110</th>\n",
              "      <td>0.0</td>\n",
              "      <td>0.0</td>\n",
              "      <td>0.0</td>\n",
              "      <td>0.0</td>\n",
              "      <td>0.0</td>\n",
              "      <td>0.0</td>\n",
              "      <td>0.0</td>\n",
              "      <td>0.0</td>\n",
              "      <td>0.0</td>\n",
              "      <td>0.0</td>\n",
              "      <td>...</td>\n",
              "      <td>0.0</td>\n",
              "      <td>0.0</td>\n",
              "      <td>0.0</td>\n",
              "      <td>1.0</td>\n",
              "      <td>0.0</td>\n",
              "      <td>1.0</td>\n",
              "      <td>0.0</td>\n",
              "      <td>1.0</td>\n",
              "      <td>0.0</td>\n",
              "      <td>1.0</td>\n",
              "    </tr>\n",
              "    <tr>\n",
              "      <th>111</th>\n",
              "      <td>0.0</td>\n",
              "      <td>0.0</td>\n",
              "      <td>0.0</td>\n",
              "      <td>0.0</td>\n",
              "      <td>0.0</td>\n",
              "      <td>0.0</td>\n",
              "      <td>0.0</td>\n",
              "      <td>0.0</td>\n",
              "      <td>0.0</td>\n",
              "      <td>0.0</td>\n",
              "      <td>...</td>\n",
              "      <td>0.0</td>\n",
              "      <td>0.0</td>\n",
              "      <td>0.0</td>\n",
              "      <td>0.0</td>\n",
              "      <td>0.0</td>\n",
              "      <td>1.0</td>\n",
              "      <td>0.0</td>\n",
              "      <td>1.0</td>\n",
              "      <td>1.0</td>\n",
              "      <td>0.0</td>\n",
              "    </tr>\n",
              "  </tbody>\n",
              "</table>\n",
              "<p>69 rows × 69 columns</p>\n",
              "</div>\n",
              "      <button class=\"colab-df-convert\" onclick=\"convertToInteractive('df-12930078-28e6-4277-adf8-9fa976e71cc1')\"\n",
              "              title=\"Convert this dataframe to an interactive table.\"\n",
              "              style=\"display:none;\">\n",
              "        \n",
              "  <svg xmlns=\"http://www.w3.org/2000/svg\" height=\"24px\"viewBox=\"0 0 24 24\"\n",
              "       width=\"24px\">\n",
              "    <path d=\"M0 0h24v24H0V0z\" fill=\"none\"/>\n",
              "    <path d=\"M18.56 5.44l.94 2.06.94-2.06 2.06-.94-2.06-.94-.94-2.06-.94 2.06-2.06.94zm-11 1L8.5 8.5l.94-2.06 2.06-.94-2.06-.94L8.5 2.5l-.94 2.06-2.06.94zm10 10l.94 2.06.94-2.06 2.06-.94-2.06-.94-.94-2.06-.94 2.06-2.06.94z\"/><path d=\"M17.41 7.96l-1.37-1.37c-.4-.4-.92-.59-1.43-.59-.52 0-1.04.2-1.43.59L10.3 9.45l-7.72 7.72c-.78.78-.78 2.05 0 2.83L4 21.41c.39.39.9.59 1.41.59.51 0 1.02-.2 1.41-.59l7.78-7.78 2.81-2.81c.8-.78.8-2.07 0-2.86zM5.41 20L4 18.59l7.72-7.72 1.47 1.35L5.41 20z\"/>\n",
              "  </svg>\n",
              "      </button>\n",
              "      \n",
              "  <style>\n",
              "    .colab-df-container {\n",
              "      display:flex;\n",
              "      flex-wrap:wrap;\n",
              "      gap: 12px;\n",
              "    }\n",
              "\n",
              "    .colab-df-convert {\n",
              "      background-color: #E8F0FE;\n",
              "      border: none;\n",
              "      border-radius: 50%;\n",
              "      cursor: pointer;\n",
              "      display: none;\n",
              "      fill: #1967D2;\n",
              "      height: 32px;\n",
              "      padding: 0 0 0 0;\n",
              "      width: 32px;\n",
              "    }\n",
              "\n",
              "    .colab-df-convert:hover {\n",
              "      background-color: #E2EBFA;\n",
              "      box-shadow: 0px 1px 2px rgba(60, 64, 67, 0.3), 0px 1px 3px 1px rgba(60, 64, 67, 0.15);\n",
              "      fill: #174EA6;\n",
              "    }\n",
              "\n",
              "    [theme=dark] .colab-df-convert {\n",
              "      background-color: #3B4455;\n",
              "      fill: #D2E3FC;\n",
              "    }\n",
              "\n",
              "    [theme=dark] .colab-df-convert:hover {\n",
              "      background-color: #434B5C;\n",
              "      box-shadow: 0px 1px 3px 1px rgba(0, 0, 0, 0.15);\n",
              "      filter: drop-shadow(0px 1px 2px rgba(0, 0, 0, 0.3));\n",
              "      fill: #FFFFFF;\n",
              "    }\n",
              "  </style>\n",
              "\n",
              "      <script>\n",
              "        const buttonEl =\n",
              "          document.querySelector('#df-12930078-28e6-4277-adf8-9fa976e71cc1 button.colab-df-convert');\n",
              "        buttonEl.style.display =\n",
              "          google.colab.kernel.accessAllowed ? 'block' : 'none';\n",
              "\n",
              "        async function convertToInteractive(key) {\n",
              "          const element = document.querySelector('#df-12930078-28e6-4277-adf8-9fa976e71cc1');\n",
              "          const dataTable =\n",
              "            await google.colab.kernel.invokeFunction('convertToInteractive',\n",
              "                                                     [key], {});\n",
              "          if (!dataTable) return;\n",
              "\n",
              "          const docLinkHtml = 'Like what you see? Visit the ' +\n",
              "            '<a target=\"_blank\" href=https://colab.research.google.com/notebooks/data_table.ipynb>data table notebook</a>'\n",
              "            + ' to learn more about interactive tables.';\n",
              "          element.innerHTML = '';\n",
              "          dataTable['output_type'] = 'display_data';\n",
              "          await google.colab.output.renderOutput(dataTable, element);\n",
              "          const docLink = document.createElement('div');\n",
              "          docLink.innerHTML = docLinkHtml;\n",
              "          element.appendChild(docLink);\n",
              "        }\n",
              "      </script>\n",
              "    </div>\n",
              "  </div>\n",
              "  "
            ]
          },
          "metadata": {},
          "execution_count": 4
        }
      ]
    },
    {
      "cell_type": "code",
      "source": [
        "id = matrix.columns\n",
        "print(id)"
      ],
      "metadata": {
        "colab": {
          "base_uri": "https://localhost:8080/"
        },
        "id": "vQhfTDXWrUUJ",
        "outputId": "4d021290-f113-4238-869d-55f032ef17aa"
      },
      "execution_count": null,
      "outputs": [
        {
          "output_type": "stream",
          "name": "stdout",
          "text": [
            "Index(['0', '1', '2', '3', '4', '5', '6', '7', '8', '9', '10', '11', '12',\n",
            "       '13', '16', '17', '18', '20', '24', '29', '31', '32', '33', '34', '35',\n",
            "       '36', '37', '40', '41', '47', '55', '56', '58', '60', '61', '62', '63',\n",
            "       '65', '66', '67', '71', '73', '76', '80', '81', '82', '86', '88', '89',\n",
            "       '90', '92', '93', '94', '95', '96', '97', '99', '100', '101', '102',\n",
            "       '103', '104', '105', '106', '107', '108', '109', '110', '111'],\n",
            "      dtype='object')\n"
          ]
        }
      ]
    },
    {
      "cell_type": "markdown",
      "source": [
        "## **2. Ratio-Cut Laplacian (L)**\n",
        "\n",
        "利用 adjacent matrix 建置 ratio-cut laplacian (L = D - A)"
      ],
      "metadata": {
        "id": "io2DuquWOOAI"
      }
    },
    {
      "cell_type": "code",
      "source": [
        "A = matrix.to_numpy()\n",
        "A"
      ],
      "metadata": {
        "colab": {
          "base_uri": "https://localhost:8080/"
        },
        "id": "thMavdoUPEgk",
        "outputId": "8d8415c5-c02a-49aa-ee6c-5865356a6925"
      },
      "execution_count": null,
      "outputs": [
        {
          "output_type": "execute_result",
          "data": {
            "text/plain": [
              "array([[0., 1., 1., ..., 0., 0., 0.],\n",
              "       [1., 0., 1., ..., 0., 0., 0.],\n",
              "       [1., 1., 0., ..., 0., 0., 0.],\n",
              "       ...,\n",
              "       [0., 0., 0., ..., 0., 1., 1.],\n",
              "       [0., 0., 0., ..., 1., 0., 1.],\n",
              "       [0., 0., 0., ..., 1., 1., 0.]])"
            ]
          },
          "metadata": {},
          "execution_count": 6
        }
      ]
    },
    {
      "cell_type": "code",
      "source": [
        "# Diagonal degree matrix\n",
        "D = np.diag(np.sum(A, axis=1))\n",
        "D"
      ],
      "metadata": {
        "id": "V8YCk8Eq2Gxe",
        "colab": {
          "base_uri": "https://localhost:8080/"
        },
        "outputId": "0d754aa6-0a42-497e-cf95-9da43580e86c"
      },
      "execution_count": null,
      "outputs": [
        {
          "output_type": "execute_result",
          "data": {
            "text/plain": [
              "array([[17.,  0.,  0., ...,  0.,  0.,  0.],\n",
              "       [ 0., 17.,  0., ...,  0.,  0.,  0.],\n",
              "       [ 0.,  0., 10., ...,  0.,  0.,  0.],\n",
              "       ...,\n",
              "       [ 0.,  0.,  0., ...,  4.,  0.,  0.],\n",
              "       [ 0.,  0.,  0., ...,  0.,  5.,  0.],\n",
              "       [ 0.,  0.,  0., ...,  0.,  0.,  4.]])"
            ]
          },
          "metadata": {},
          "execution_count": 7
        }
      ]
    },
    {
      "cell_type": "code",
      "source": [
        "# Laplacian matrix\n",
        "L = D - A\n",
        "L"
      ],
      "metadata": {
        "colab": {
          "base_uri": "https://localhost:8080/"
        },
        "id": "ZhJWwn0ZGoGb",
        "outputId": "89acacde-1fa9-455d-aa0f-bc746b7ba6d0"
      },
      "execution_count": null,
      "outputs": [
        {
          "output_type": "execute_result",
          "data": {
            "text/plain": [
              "array([[17., -1., -1., ...,  0.,  0.,  0.],\n",
              "       [-1., 17., -1., ...,  0.,  0.,  0.],\n",
              "       [-1., -1., 10., ...,  0.,  0.,  0.],\n",
              "       ...,\n",
              "       [ 0.,  0.,  0., ...,  4., -1., -1.],\n",
              "       [ 0.,  0.,  0., ..., -1.,  5., -1.],\n",
              "       [ 0.,  0.,  0., ..., -1., -1.,  4.]])"
            ]
          },
          "metadata": {},
          "execution_count": 8
        }
      ]
    },
    {
      "cell_type": "markdown",
      "source": [
        "## **3. Top k Eigenvectors (Smallest Eigenvalues)**\n"
      ],
      "metadata": {
        "id": "eH_0u4n2DxOb"
      }
    },
    {
      "cell_type": "markdown",
      "source": [
        "### **3.1 Compute eigenvalues and eigenvectors**\n",
        "\n",
        "Source: https://numpy.org/doc/stable/reference/generated/numpy.linalg.eig.html"
      ],
      "metadata": {
        "id": "R7jLcx5efwwA"
      }
    },
    {
      "cell_type": "code",
      "source": [
        "e, v = np.linalg.eig(L)"
      ],
      "metadata": {
        "id": "ToTcvK6n_MJ4"
      },
      "execution_count": null,
      "outputs": []
    },
    {
      "cell_type": "code",
      "source": [
        "# eigenvalues\n",
        "print('Eigenvalues:')\n",
        "print(np.round(e, 4))"
      ],
      "metadata": {
        "colab": {
          "base_uri": "https://localhost:8080/"
        },
        "id": "Zh6zZZ8BHpcS",
        "outputId": "0016953d-a18a-44c0-e074-b25a20e2f313"
      },
      "execution_count": null,
      "outputs": [
        {
          "output_type": "stream",
          "name": "stdout",
          "text": [
            "Eigenvalues:\n",
            "[28.3536 27.1392 24.0988 22.9538 20.5544 20.1001 19.3654 18.5125 18.1611\n",
            " 17.226  16.0339 15.8997 14.0311 14.1264 13.3342 11.2653 11.5086 10.8514\n",
            " 10.6265 10.258   9.164   8.9183  8.691   8.2841  8.0768  7.8619  7.3316\n",
            "  6.5622  6.1474  0.      5.6778  5.5931  5.3059  0.4727  0.6549  0.7367\n",
            "  0.8043  1.1986  0.8859  0.9297  0.9539  0.9896  1.3675  4.8144  4.7577\n",
            "  4.5408  4.416   4.2763  4.1919  3.8115  3.7634  3.5663  3.5012  3.0617\n",
            "  2.9496  2.8868  2.6254  2.8319  2.7773  2.7115  1.6678  1.7684  2.118\n",
            "  1.9542  1.      2.      5.      5.      5.    ]\n"
          ]
        }
      ]
    },
    {
      "cell_type": "code",
      "source": [
        "# eigenvectors\n",
        "print('Eigenvectors:')\n",
        "print(np.round(v, 4))"
      ],
      "metadata": {
        "colab": {
          "base_uri": "https://localhost:8080/"
        },
        "id": "p69hlFvmHm6O",
        "outputId": "e8b32164-87ef-48fd-cd2b-688178f1af36"
      },
      "execution_count": null,
      "outputs": [
        {
          "output_type": "stream",
          "name": "stdout",
          "text": [
            "Eigenvectors:\n",
            "[[ 0.0279 -0.0185  0.084  ...  0.      0.     -0.    ]\n",
            " [ 0.0489 -0.0818 -0.0178 ...  0.      0.     -0.    ]\n",
            " [-0.0253 -0.0349  0.011  ...  0.      0.     -0.    ]\n",
            " ...\n",
            " [ 0.0011  0.0016 -0.001  ... -0.6086 -0.7753 -0.0418]\n",
            " [ 0.0019  0.0031 -0.0018 ...  0.      0.      0.    ]\n",
            " [ 0.0011  0.0016 -0.001  ...  0.5928  0.2495 -0.0177]]\n"
          ]
        }
      ]
    },
    {
      "cell_type": "markdown",
      "source": [
        "### **3.2 Sort eigenvectors by eigenvalues (ascending)**"
      ],
      "metadata": {
        "id": "E6lv-GcegHKx"
      }
    },
    {
      "cell_type": "code",
      "source": [
        "ind = e.argsort()\n",
        "ind"
      ],
      "metadata": {
        "colab": {
          "base_uri": "https://localhost:8080/"
        },
        "id": "Zw0JKib1YTcP",
        "outputId": "36fac737-0935-4c10-a8cb-05f857539e36"
      },
      "execution_count": null,
      "outputs": [
        {
          "output_type": "execute_result",
          "data": {
            "text/plain": [
              "array([29, 33, 34, 35, 36, 38, 39, 40, 41, 64, 37, 42, 60, 61, 63, 65, 62,\n",
              "       56, 59, 58, 57, 55, 54, 53, 52, 51, 50, 49, 48, 47, 46, 45, 44, 43,\n",
              "       68, 67, 66, 32, 31, 30, 28, 27, 26, 25, 24, 23, 22, 21, 20, 19, 18,\n",
              "       17, 15, 16, 14, 12, 13, 11, 10,  9,  8,  7,  6,  5,  4,  3,  2,  1,\n",
              "        0])"
            ]
          },
          "metadata": {},
          "execution_count": 12
        }
      ]
    },
    {
      "cell_type": "code",
      "source": [
        "sorted_e = e[ind[::1]]\n",
        "sorted_v = v.T[ind[::1]]"
      ],
      "metadata": {
        "id": "pV3dtveKIPRC"
      },
      "execution_count": null,
      "outputs": []
    },
    {
      "cell_type": "markdown",
      "source": [
        "### **3.3 Find top 3 eigenvectors**"
      ],
      "metadata": {
        "id": "E1lYOd9xgeQg"
      }
    },
    {
      "cell_type": "code",
      "source": [
        "top_k = 3\n",
        "\n",
        "# k smallest eigenvalues\n",
        "top_e = sorted_e[:top_k]\n",
        "print(np.round(top_e, 10))\n",
        "\n",
        "# top k eigenvectors\n",
        "top_v = sorted_v[:top_k]\n",
        "eigen = pd.DataFrame(top_v, columns = id)\n",
        "eigen"
      ],
      "metadata": {
        "colab": {
          "base_uri": "https://localhost:8080/"
        },
        "id": "N3O-AaxBaplk",
        "outputId": "479f6149-0e8b-44b4-9083-d7b32d5ee29f"
      },
      "execution_count": null,
      "outputs": [
        {
          "output_type": "stream",
          "name": "stdout",
          "text": [
            "[0.         0.4727275  0.65491922]\n"
          ]
        },
        {
          "output_type": "execute_result",
          "data": {
            "text/plain": [
              "          0         1         2         3         4         5         6  \\\n",
              "0  0.120386  0.120386  0.120386  0.120386  0.120386  0.120386  0.120386   \n",
              "1 -0.030371  0.021461  0.033133 -0.059563 -0.080287 -0.094750 -0.089101   \n",
              "2 -0.007693  0.013670  0.019272 -0.034807 -0.057147 -0.074879 -0.068011   \n",
              "\n",
              "          7         8         9  ...       102       103       104       105  \\\n",
              "0  0.120386  0.120386  0.120386  ...  0.120386  0.120386  0.120386  0.120386   \n",
              "1 -0.055608 -0.113178 -0.101323  ...  0.035563  0.310957  0.035563  0.037168   \n",
              "2 -0.032708 -0.095971 -0.081160  ...  0.021925 -0.050964  0.021925  0.042625   \n",
              "\n",
              "        106       107       108       109       110       111  \n",
              "0  0.120386  0.120386  0.120386  0.120386  0.120386  0.120386  \n",
              "1  0.029418  0.098921  0.630835  0.098921  0.087749  0.098921  \n",
              "2  0.035818  0.095761 -0.192219  0.095761  0.085820  0.095761  \n",
              "\n",
              "[3 rows x 69 columns]"
            ],
            "text/html": [
              "\n",
              "  <div id=\"df-b62c741f-149a-4117-af1b-765968d62415\">\n",
              "    <div class=\"colab-df-container\">\n",
              "      <div>\n",
              "<style scoped>\n",
              "    .dataframe tbody tr th:only-of-type {\n",
              "        vertical-align: middle;\n",
              "    }\n",
              "\n",
              "    .dataframe tbody tr th {\n",
              "        vertical-align: top;\n",
              "    }\n",
              "\n",
              "    .dataframe thead th {\n",
              "        text-align: right;\n",
              "    }\n",
              "</style>\n",
              "<table border=\"1\" class=\"dataframe\">\n",
              "  <thead>\n",
              "    <tr style=\"text-align: right;\">\n",
              "      <th></th>\n",
              "      <th>0</th>\n",
              "      <th>1</th>\n",
              "      <th>2</th>\n",
              "      <th>3</th>\n",
              "      <th>4</th>\n",
              "      <th>5</th>\n",
              "      <th>6</th>\n",
              "      <th>7</th>\n",
              "      <th>8</th>\n",
              "      <th>9</th>\n",
              "      <th>...</th>\n",
              "      <th>102</th>\n",
              "      <th>103</th>\n",
              "      <th>104</th>\n",
              "      <th>105</th>\n",
              "      <th>106</th>\n",
              "      <th>107</th>\n",
              "      <th>108</th>\n",
              "      <th>109</th>\n",
              "      <th>110</th>\n",
              "      <th>111</th>\n",
              "    </tr>\n",
              "  </thead>\n",
              "  <tbody>\n",
              "    <tr>\n",
              "      <th>0</th>\n",
              "      <td>0.120386</td>\n",
              "      <td>0.120386</td>\n",
              "      <td>0.120386</td>\n",
              "      <td>0.120386</td>\n",
              "      <td>0.120386</td>\n",
              "      <td>0.120386</td>\n",
              "      <td>0.120386</td>\n",
              "      <td>0.120386</td>\n",
              "      <td>0.120386</td>\n",
              "      <td>0.120386</td>\n",
              "      <td>...</td>\n",
              "      <td>0.120386</td>\n",
              "      <td>0.120386</td>\n",
              "      <td>0.120386</td>\n",
              "      <td>0.120386</td>\n",
              "      <td>0.120386</td>\n",
              "      <td>0.120386</td>\n",
              "      <td>0.120386</td>\n",
              "      <td>0.120386</td>\n",
              "      <td>0.120386</td>\n",
              "      <td>0.120386</td>\n",
              "    </tr>\n",
              "    <tr>\n",
              "      <th>1</th>\n",
              "      <td>-0.030371</td>\n",
              "      <td>0.021461</td>\n",
              "      <td>0.033133</td>\n",
              "      <td>-0.059563</td>\n",
              "      <td>-0.080287</td>\n",
              "      <td>-0.094750</td>\n",
              "      <td>-0.089101</td>\n",
              "      <td>-0.055608</td>\n",
              "      <td>-0.113178</td>\n",
              "      <td>-0.101323</td>\n",
              "      <td>...</td>\n",
              "      <td>0.035563</td>\n",
              "      <td>0.310957</td>\n",
              "      <td>0.035563</td>\n",
              "      <td>0.037168</td>\n",
              "      <td>0.029418</td>\n",
              "      <td>0.098921</td>\n",
              "      <td>0.630835</td>\n",
              "      <td>0.098921</td>\n",
              "      <td>0.087749</td>\n",
              "      <td>0.098921</td>\n",
              "    </tr>\n",
              "    <tr>\n",
              "      <th>2</th>\n",
              "      <td>-0.007693</td>\n",
              "      <td>0.013670</td>\n",
              "      <td>0.019272</td>\n",
              "      <td>-0.034807</td>\n",
              "      <td>-0.057147</td>\n",
              "      <td>-0.074879</td>\n",
              "      <td>-0.068011</td>\n",
              "      <td>-0.032708</td>\n",
              "      <td>-0.095971</td>\n",
              "      <td>-0.081160</td>\n",
              "      <td>...</td>\n",
              "      <td>0.021925</td>\n",
              "      <td>-0.050964</td>\n",
              "      <td>0.021925</td>\n",
              "      <td>0.042625</td>\n",
              "      <td>0.035818</td>\n",
              "      <td>0.095761</td>\n",
              "      <td>-0.192219</td>\n",
              "      <td>0.095761</td>\n",
              "      <td>0.085820</td>\n",
              "      <td>0.095761</td>\n",
              "    </tr>\n",
              "  </tbody>\n",
              "</table>\n",
              "<p>3 rows × 69 columns</p>\n",
              "</div>\n",
              "      <button class=\"colab-df-convert\" onclick=\"convertToInteractive('df-b62c741f-149a-4117-af1b-765968d62415')\"\n",
              "              title=\"Convert this dataframe to an interactive table.\"\n",
              "              style=\"display:none;\">\n",
              "        \n",
              "  <svg xmlns=\"http://www.w3.org/2000/svg\" height=\"24px\"viewBox=\"0 0 24 24\"\n",
              "       width=\"24px\">\n",
              "    <path d=\"M0 0h24v24H0V0z\" fill=\"none\"/>\n",
              "    <path d=\"M18.56 5.44l.94 2.06.94-2.06 2.06-.94-2.06-.94-.94-2.06-.94 2.06-2.06.94zm-11 1L8.5 8.5l.94-2.06 2.06-.94-2.06-.94L8.5 2.5l-.94 2.06-2.06.94zm10 10l.94 2.06.94-2.06 2.06-.94-2.06-.94-.94-2.06-.94 2.06-2.06.94z\"/><path d=\"M17.41 7.96l-1.37-1.37c-.4-.4-.92-.59-1.43-.59-.52 0-1.04.2-1.43.59L10.3 9.45l-7.72 7.72c-.78.78-.78 2.05 0 2.83L4 21.41c.39.39.9.59 1.41.59.51 0 1.02-.2 1.41-.59l7.78-7.78 2.81-2.81c.8-.78.8-2.07 0-2.86zM5.41 20L4 18.59l7.72-7.72 1.47 1.35L5.41 20z\"/>\n",
              "  </svg>\n",
              "      </button>\n",
              "      \n",
              "  <style>\n",
              "    .colab-df-container {\n",
              "      display:flex;\n",
              "      flex-wrap:wrap;\n",
              "      gap: 12px;\n",
              "    }\n",
              "\n",
              "    .colab-df-convert {\n",
              "      background-color: #E8F0FE;\n",
              "      border: none;\n",
              "      border-radius: 50%;\n",
              "      cursor: pointer;\n",
              "      display: none;\n",
              "      fill: #1967D2;\n",
              "      height: 32px;\n",
              "      padding: 0 0 0 0;\n",
              "      width: 32px;\n",
              "    }\n",
              "\n",
              "    .colab-df-convert:hover {\n",
              "      background-color: #E2EBFA;\n",
              "      box-shadow: 0px 1px 2px rgba(60, 64, 67, 0.3), 0px 1px 3px 1px rgba(60, 64, 67, 0.15);\n",
              "      fill: #174EA6;\n",
              "    }\n",
              "\n",
              "    [theme=dark] .colab-df-convert {\n",
              "      background-color: #3B4455;\n",
              "      fill: #D2E3FC;\n",
              "    }\n",
              "\n",
              "    [theme=dark] .colab-df-convert:hover {\n",
              "      background-color: #434B5C;\n",
              "      box-shadow: 0px 1px 3px 1px rgba(0, 0, 0, 0.15);\n",
              "      filter: drop-shadow(0px 1px 2px rgba(0, 0, 0, 0.3));\n",
              "      fill: #FFFFFF;\n",
              "    }\n",
              "  </style>\n",
              "\n",
              "      <script>\n",
              "        const buttonEl =\n",
              "          document.querySelector('#df-b62c741f-149a-4117-af1b-765968d62415 button.colab-df-convert');\n",
              "        buttonEl.style.display =\n",
              "          google.colab.kernel.accessAllowed ? 'block' : 'none';\n",
              "\n",
              "        async function convertToInteractive(key) {\n",
              "          const element = document.querySelector('#df-b62c741f-149a-4117-af1b-765968d62415');\n",
              "          const dataTable =\n",
              "            await google.colab.kernel.invokeFunction('convertToInteractive',\n",
              "                                                     [key], {});\n",
              "          if (!dataTable) return;\n",
              "\n",
              "          const docLinkHtml = 'Like what you see? Visit the ' +\n",
              "            '<a target=\"_blank\" href=https://colab.research.google.com/notebooks/data_table.ipynb>data table notebook</a>'\n",
              "            + ' to learn more about interactive tables.';\n",
              "          element.innerHTML = '';\n",
              "          dataTable['output_type'] = 'display_data';\n",
              "          await google.colab.output.renderOutput(dataTable, element);\n",
              "          const docLink = document.createElement('div');\n",
              "          docLink.innerHTML = docLinkHtml;\n",
              "          element.appendChild(docLink);\n",
              "        }\n",
              "      </script>\n",
              "    </div>\n",
              "  </div>\n",
              "  "
            ]
          },
          "metadata": {},
          "execution_count": 14
        }
      ]
    },
    {
      "cell_type": "code",
      "source": [
        "# Output\n",
        "eigen.to_csv(os.path.join(path, \"eigen.csv\"), index = False, header = False)"
      ],
      "metadata": {
        "id": "mfN-hVQ6Xgiw"
      },
      "execution_count": null,
      "outputs": []
    },
    {
      "cell_type": "markdown",
      "source": [
        "### **3.4 Create $\\hat{X}$**\n",
        "\n",
        "最小的 eigenvalue 為 0，其 eigenvector 是一個 constant vector，可取也可不用取這個 eigenvector 來建置 $\\hat{X}$（也就是只取倒數第二與第三個 eigenvector）\n",
        "  "
      ],
      "metadata": {
        "id": "D5dIOoLog3X3"
      }
    },
    {
      "cell_type": "code",
      "source": [
        "X = top_v[1:].T\n",
        "X"
      ],
      "metadata": {
        "colab": {
          "base_uri": "https://localhost:8080/"
        },
        "id": "0EmKLfRVKAmf",
        "outputId": "30e4b265-02c2-465b-f8bf-86ad3ae12417"
      },
      "execution_count": null,
      "outputs": [
        {
          "output_type": "execute_result",
          "data": {
            "text/plain": [
              "array([[-0.0303707 , -0.00769338],\n",
              "       [ 0.02146138,  0.01367009],\n",
              "       [ 0.03313276,  0.01927221],\n",
              "       [-0.05956305, -0.03480719],\n",
              "       [-0.08028724, -0.05714747],\n",
              "       [-0.09475033, -0.0748792 ],\n",
              "       [-0.08910148, -0.06801092],\n",
              "       [-0.0556081 , -0.03270765],\n",
              "       [-0.11317794, -0.09597144],\n",
              "       [-0.1013229 , -0.08116022],\n",
              "       [-0.11664278, -0.09990237],\n",
              "       [-0.05914056, -0.03327743],\n",
              "       [-0.06364148, -0.03755862],\n",
              "       [-0.06547794, -0.03986689],\n",
              "       [-0.06360663, -0.03740638],\n",
              "       [-0.05340594, -0.02757565],\n",
              "       [-0.06649858, -0.04034524],\n",
              "       [-0.05574599, -0.02988463],\n",
              "       [-0.01539864,  0.0045764 ],\n",
              "       [-0.02516816, -0.00368916],\n",
              "       [-0.06778203, -0.04026504],\n",
              "       [-0.06291396, -0.03726441],\n",
              "       [-0.07107653, -0.04938038],\n",
              "       [-0.05786848, -0.03241436],\n",
              "       [-0.06784836, -0.04228943],\n",
              "       [-0.05260005, -0.02634014],\n",
              "       [-0.09129203, -0.06722638],\n",
              "       [-0.04650247, -0.02146909],\n",
              "       [-0.06364343, -0.03728446],\n",
              "       [-0.10546368, -0.09478259],\n",
              "       [-0.06947217, -0.04403942],\n",
              "       [-0.13480037, -0.14309804],\n",
              "       [-0.07582931, -0.05105997],\n",
              "       [-0.02203219,  0.01099178],\n",
              "       [-0.05066259, -0.01830385],\n",
              "       [-0.10975062, -0.09393266],\n",
              "       [-0.06581191, -0.03954196],\n",
              "       [-0.03892314, -0.01256124],\n",
              "       [-0.02992138,  0.00110685],\n",
              "       [-0.01779341,  0.02241643],\n",
              "       [-0.05674746,  0.00320752],\n",
              "       [ 0.01929274,  0.01857433],\n",
              "       [-0.00801351,  0.29025481],\n",
              "       [ 0.01003274,  0.0157013 ],\n",
              "       [-0.02920432,  0.01326183],\n",
              "       [ 0.0009817 ,  0.03047457],\n",
              "       [-0.01519803,  0.84112135],\n",
              "       [-0.00819228,  0.0493613 ],\n",
              "       [-0.05674746,  0.00320752],\n",
              "       [-0.02309217,  0.00993726],\n",
              "       [ 0.0129179 ,  0.0580267 ],\n",
              "       [ 0.09910934,  0.02038559],\n",
              "       [ 0.06333116,  0.04298653],\n",
              "       [ 0.14229392, -0.00221935],\n",
              "       [ 0.11082779,  0.00815206],\n",
              "       [ 0.04529254,  0.02465949],\n",
              "       [ 0.04182192,  0.01909083],\n",
              "       [ 0.33262213, -0.06633119],\n",
              "       [ 0.31095698, -0.05096388],\n",
              "       [ 0.03556255,  0.02192524],\n",
              "       [ 0.31095698, -0.05096388],\n",
              "       [ 0.03556255,  0.02192524],\n",
              "       [ 0.03716759,  0.04262539],\n",
              "       [ 0.02941836,  0.03581776],\n",
              "       [ 0.09892149,  0.0957614 ],\n",
              "       [ 0.63083534, -0.19221931],\n",
              "       [ 0.09892149,  0.0957614 ],\n",
              "       [ 0.08774891,  0.0858203 ],\n",
              "       [ 0.09892149,  0.0957614 ]])"
            ]
          },
          "metadata": {},
          "execution_count": 16
        }
      ]
    },
    {
      "cell_type": "markdown",
      "source": [
        "## **4. K-means**\n",
        "\n",
        "將 $\\hat{X}$ 的每個 row 視為一個角色的 representation vector，並用 k-means 將這些 vectors (角色) 分成 3 群。\n"
      ],
      "metadata": {
        "id": "zEIxuCk93ksg"
      }
    },
    {
      "cell_type": "markdown",
      "source": [
        "### **4.1 Algorithm**"
      ],
      "metadata": {
        "id": "XUq-sOQT9s8u"
      }
    },
    {
      "cell_type": "code",
      "source": [
        "def Kmeans(X: np.array, k: int, max_iter: int = 1000):\n",
        "    n, d = X.shape\n",
        "    \n",
        "    # Randomly initialize centroids\n",
        "    centroids = X[np.random.choice(n, k, replace=False), :]\n",
        "    \n",
        "    for i in range(max_iter):\n",
        "        # Compute the distance between each data point and each centroid\n",
        "        distances = np.linalg.norm(X[:, np.newaxis, :] - centroids, axis=2)\n",
        "\n",
        "        # Assign cluster (find the index of the centroid with the smallest distance)\n",
        "        labels = np.argmin(distances, axis=1)\n",
        "        \n",
        "        # Recalculate centroids\n",
        "        centroids_new = np.zeros((k, d))\n",
        "        for j in range(k):\n",
        "            centroids_new[j, :] = np.mean(X[labels == j, :], axis=0)\n",
        "        \n",
        "        # Check for convergence (if the new centroids are different from the old centroids)\n",
        "        convergence = 0\n",
        "        if np.allclose(centroids, centroids_new):\n",
        "            convergence += 1\n",
        "        if convergence >= 10:\n",
        "            break\n",
        "\n",
        "        # Update centroids\n",
        "        centroids = centroids_new\n",
        "    \n",
        "    return centroids, labels"
      ],
      "metadata": {
        "id": "WM8CZgHSMtft"
      },
      "execution_count": null,
      "outputs": []
    },
    {
      "cell_type": "markdown",
      "source": [
        "### **4.2 Result**"
      ],
      "metadata": {
        "id": "Hru6qPHg-Aoo"
      }
    },
    {
      "cell_type": "code",
      "source": [
        "k = 3\n",
        "max_iter = 1000\n",
        "\n",
        "centroids, labels = Kmeans(X, k, max_iter)\n",
        "labels"
      ],
      "metadata": {
        "colab": {
          "base_uri": "https://localhost:8080/"
        },
        "id": "DzsQRbL8OqYj",
        "outputId": "acdf8a20-86d2-4555-dc54-480cc303d36b"
      },
      "execution_count": null,
      "outputs": [
        {
          "output_type": "execute_result",
          "data": {
            "text/plain": [
              "array([1, 2, 2, 1, 1, 1, 1, 1, 1, 1, 1, 1, 1, 1, 1, 1, 1, 1, 1, 1, 1, 1,\n",
              "       1, 1, 1, 1, 1, 1, 1, 1, 1, 1, 1, 1, 1, 1, 1, 1, 1, 1, 1, 2, 2, 2,\n",
              "       1, 2, 2, 2, 1, 1, 2, 2, 2, 2, 2, 2, 2, 0, 0, 2, 0, 2, 2, 2, 2, 0,\n",
              "       2, 2, 2])"
            ]
          },
          "metadata": {},
          "execution_count": 33
        }
      ]
    },
    {
      "cell_type": "code",
      "source": [
        "# Output\n",
        "np.savetxt(os.path.join(path, \"result.csv\"), labels.reshape(1, -1), fmt='%s', delimiter=\",\")"
      ],
      "metadata": {
        "id": "5VhRfHb5-w8d"
      },
      "execution_count": null,
      "outputs": []
    },
    {
      "cell_type": "markdown",
      "source": [
        "### **4.3 Visualization**"
      ],
      "metadata": {
        "id": "1r29IiBK-EIp"
      }
    },
    {
      "cell_type": "code",
      "source": [
        "import matplotlib.pyplot as plt\n",
        "\n",
        "# Plot\n",
        "colors = ['r', 'g', 'b']\n",
        "plt.figure()\n",
        "for i in range(k):\n",
        "    plt.scatter(X[labels == i, 0], X[labels == i, 1], c=colors[i], label=f'Community {i}')\n",
        "plt.scatter(centroids[:, 0], centroids[:, 1], marker='x', s=100, linewidth=2, color='k', label='Centroid')\n",
        "plt.legend()\n",
        "plt.show()"
      ],
      "metadata": {
        "colab": {
          "base_uri": "https://localhost:8080/",
          "height": 430
        },
        "id": "_vk03uO52u7G",
        "outputId": "8f7b265d-7866-47d3-d778-eec8107c38e8"
      },
      "execution_count": null,
      "outputs": [
        {
          "output_type": "display_data",
          "data": {
            "text/plain": [
              "<Figure size 640x480 with 1 Axes>"
            ],
            "image/png": "[encoded data removed]"
          },
          "metadata": {}
        }
      ]
    },
    {
      "cell_type": "markdown",
      "source": [
        "## **5. Check if the Above Results are Correct**\n"
      ],
      "metadata": {
        "id": "jjxGEai3-kTy"
      }
    },
    {
      "cell_type": "markdown",
      "source": [
        "### **5.1 K-means**\n",
        "Source: https://scikit-learn.org/stable/modules/generated/sklearn.cluster.KMeans.html"
      ],
      "metadata": {
        "id": "nGBuIHD9eanY"
      }
    },
    {
      "cell_type": "code",
      "source": [
        "from sklearn.cluster import KMeans\n",
        "\n",
        "kmeans = KMeans(init='random', n_init=10, max_iter=1000, n_clusters=3)\n",
        "kmeans.fit(X)\n",
        "kmeans.labels_"
      ],
      "metadata": {
        "colab": {
          "base_uri": "https://localhost:8080/"
        },
        "id": "7TSVI9qPHGBC",
        "outputId": "17c5f118-66a8-4180-f4c8-05ec8e877a49"
      },
      "execution_count": null,
      "outputs": [
        {
          "output_type": "execute_result",
          "data": {
            "text/plain": [
              "array([2, 0, 0, 2, 2, 2, 2, 2, 2, 2, 2, 2, 2, 2, 2, 2, 2, 2, 2, 2, 2, 2,\n",
              "       2, 2, 2, 2, 2, 2, 2, 2, 2, 2, 2, 2, 2, 2, 2, 2, 2, 2, 2, 0, 0, 0,\n",
              "       2, 0, 0, 0, 2, 2, 0, 0, 0, 0, 0, 0, 0, 1, 1, 0, 1, 0, 0, 0, 0, 1,\n",
              "       0, 0, 0], dtype=int32)"
            ]
          },
          "metadata": {},
          "execution_count": 31
        }
      ]
    },
    {
      "cell_type": "code",
      "source": [
        "# Plot\n",
        "plt.scatter(X[:, 0], X[:, 1], c=kmeans.labels_)\n",
        "plt.show()"
      ],
      "metadata": {
        "colab": {
          "base_uri": "https://localhost:8080/",
          "height": 430
        },
        "id": "UG84RCtOeD-B",
        "outputId": "3c5336a3-6089-4641-9d67-15114b7c364f"
      },
      "execution_count": null,
      "outputs": [
        {
          "output_type": "display_data",
          "data": {
            "text/plain": [
              "<Figure size 640x480 with 1 Axes>"
            ],
            "image/png": "[encoded data removed]"
          },
          "metadata": {}
        }
      ]
    },
    {
      "cell_type": "markdown",
      "source": [
        "### **5.2 Spectral Clustering**\n",
        "\n",
        "Source: https://scikit-learn.org/stable/modules/generated/sklearn.cluster.SpectralClustering.html"
      ],
      "metadata": {
        "id": "S40AjIPOejP1"
      }
    },
    {
      "cell_type": "code",
      "source": [
        "from sklearn.cluster import SpectralClustering\n",
        "sc = SpectralClustering(3, affinity='precomputed', n_init=10, assign_labels='kmeans')\n",
        "pred = sc.fit_predict(A) \n",
        "pred"
      ],
      "metadata": {
        "colab": {
          "base_uri": "https://localhost:8080/"
        },
        "id": "jdxoNUyIDiw9",
        "outputId": "1ed700db-fa46-4ccf-fedb-3c586461ca92"
      },
      "execution_count": null,
      "outputs": [
        {
          "output_type": "execute_result",
          "data": {
            "text/plain": [
              "array([1, 1, 1, 1, 1, 1, 1, 1, 1, 1, 1, 1, 1, 1, 1, 1, 1, 1, 1, 1, 1, 1,\n",
              "       1, 1, 1, 1, 1, 1, 1, 1, 1, 1, 1, 1, 1, 1, 1, 1, 1, 1, 1, 1, 1, 1,\n",
              "       1, 1, 1, 1, 1, 1, 1, 1, 1, 2, 1, 1, 1, 2, 2, 1, 2, 1, 1, 1, 0, 2,\n",
              "       0, 0, 0], dtype=int32)"
            ]
          },
          "metadata": {},
          "execution_count": 23
        }
      ]
    },
    {
      "cell_type": "code",
      "source": [
        "# Plot\n",
        "plt.scatter(X[:, 0], X[:, 1], c=pred)\n",
        "plt.show()"
      ],
      "metadata": {
        "colab": {
          "base_uri": "https://localhost:8080/",
          "height": 430
        },
        "id": "z-Vkq1BYJ11i",
        "outputId": "1accc4d7-f478-4950-ba17-82bf2b42c93d"
      },
      "execution_count": null,
      "outputs": [
        {
          "output_type": "display_data",
          "data": {
            "text/plain": [
              "<Figure size 640x480 with 1 Axes>"
            ],
            "image/png": "[encoded data removed]"
          },
          "metadata": {}
        }
      ]
    }
  ]
}